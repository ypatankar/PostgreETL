{
 "cells": [
  {
   "cell_type": "markdown",
   "metadata": {
    "editable": true
   },
   "source": [
    "# ETL Processes\n",
    "Use this notebook to develop the ETL process for each of your tables before completing the `etl.py` file to load the whole datasets."
   ]
  },
  {
   "cell_type": "code",
   "execution_count": 1,
   "metadata": {
    "editable": true
   },
   "outputs": [],
   "source": [
    "import os\n",
    "import glob\n",
    "import psycopg2\n",
    "import pandas as pd\n",
    "from sql_queries import *\n",
    "import datetime"
   ]
  },
  {
   "cell_type": "code",
   "execution_count": 2,
   "metadata": {
    "editable": true
   },
   "outputs": [],
   "source": [
    "conn = psycopg2.connect(\"host=127.0.0.1 dbname=sparkifydb user=student password=student\")\n",
    "cur = conn.cursor()"
   ]
  },
  {
   "cell_type": "code",
   "execution_count": 3,
   "metadata": {
    "editable": true
   },
   "outputs": [],
   "source": [
    "def get_files(filepath):\n",
    "    all_files = []\n",
    "    for root, dirs, files in os.walk(filepath):\n",
    "        files = glob.glob(os.path.join(root,'*.json'))\n",
    "        for f in files :\n",
    "            all_files.append(os.path.abspath(f))\n",
    "    \n",
    "    return all_files"
   ]
  },
  {
   "cell_type": "markdown",
   "metadata": {
    "editable": true
   },
   "source": [
    "# Process `song_data`\n",
    "In this first part, you'll perform ETL on the first dataset, `song_data`, to create the `songs` and `artists` dimensional tables.\n",
    "\n",
    "Let's perform ETL on a single song file and load a single record into each table to start.\n",
    "- Use the `get_files` function provided above to get a list of all song JSON files in `data/song_data`\n",
    "- Select the first song in this list\n",
    "- Read the song file and view the data"
   ]
  },
  {
   "cell_type": "code",
   "execution_count": 4,
   "metadata": {
    "editable": true
   },
   "outputs": [],
   "source": [
    "song_files = get_files(\"data/song_data\")\n"
   ]
  },
  {
   "cell_type": "code",
   "execution_count": 5,
   "metadata": {
    "editable": true
   },
   "outputs": [],
   "source": [
    "filepath = '/home/workspace/data/song_data/A/B/C/TRABCRU128F423F449.json'"
   ]
  },
  {
   "cell_type": "code",
   "execution_count": 6,
   "metadata": {
    "editable": true
   },
   "outputs": [
    {
     "data": {
      "text/html": [
       "<div>\n",
       "<style scoped>\n",
       "    .dataframe tbody tr th:only-of-type {\n",
       "        vertical-align: middle;\n",
       "    }\n",
       "\n",
       "    .dataframe tbody tr th {\n",
       "        vertical-align: top;\n",
       "    }\n",
       "\n",
       "    .dataframe thead th {\n",
       "        text-align: right;\n",
       "    }\n",
       "</style>\n",
       "<table border=\"1\" class=\"dataframe\">\n",
       "  <thead>\n",
       "    <tr style=\"text-align: right;\">\n",
       "      <th></th>\n",
       "      <th>artist_id</th>\n",
       "      <th>artist_latitude</th>\n",
       "      <th>artist_location</th>\n",
       "      <th>artist_longitude</th>\n",
       "      <th>artist_name</th>\n",
       "      <th>duration</th>\n",
       "      <th>num_songs</th>\n",
       "      <th>song_id</th>\n",
       "      <th>title</th>\n",
       "      <th>year</th>\n",
       "    </tr>\n",
       "  </thead>\n",
       "  <tbody>\n",
       "    <tr>\n",
       "      <th>0</th>\n",
       "      <td>AR8IEZO1187B99055E</td>\n",
       "      <td>NaN</td>\n",
       "      <td></td>\n",
       "      <td>NaN</td>\n",
       "      <td>Marc Shaiman</td>\n",
       "      <td>149.86404</td>\n",
       "      <td>1</td>\n",
       "      <td>SOINLJW12A8C13314C</td>\n",
       "      <td>City Slickers</td>\n",
       "      <td>2008</td>\n",
       "    </tr>\n",
       "  </tbody>\n",
       "</table>\n",
       "</div>"
      ],
      "text/plain": [
       "            artist_id  artist_latitude artist_location  artist_longitude  \\\n",
       "0  AR8IEZO1187B99055E              NaN                               NaN   \n",
       "\n",
       "    artist_name   duration  num_songs             song_id          title  year  \n",
       "0  Marc Shaiman  149.86404          1  SOINLJW12A8C13314C  City Slickers  2008  "
      ]
     },
     "execution_count": 6,
     "metadata": {},
     "output_type": "execute_result"
    }
   ],
   "source": [
    "df = pd.read_json(filepath, lines=True)\n",
    "df.head()"
   ]
  },
  {
   "cell_type": "markdown",
   "metadata": {
    "editable": true
   },
   "source": [
    "## #1: `songs` Table\n",
    "#### Extract Data for Songs Table\n",
    "- Select columns for song ID, title, artist ID, year, and duration\n",
    "- Use `df.values` to select just the values from the dataframe\n",
    "- Index to select the first (only) record in the dataframe\n",
    "- Convert the array to a list and set it to `song_data`"
   ]
  },
  {
   "cell_type": "code",
   "execution_count": 7,
   "metadata": {
    "editable": true
   },
   "outputs": [
    {
     "data": {
      "text/plain": [
       "['SOINLJW12A8C13314C', 'City Slickers', 'AR8IEZO1187B99055E', 2008, 149.86404]"
      ]
     },
     "execution_count": 7,
     "metadata": {},
     "output_type": "execute_result"
    }
   ],
   "source": [
    "song_data = df.loc[:,[\"song_id\",\"title\",\"artist_id\",\"year\",\"duration\"]].values[0].tolist()\n",
    "song_data"
   ]
  },
  {
   "cell_type": "markdown",
   "metadata": {
    "editable": true
   },
   "source": [
    "#### Insert Record into Song Table\n",
    "Implement the `song_table_insert` query in `sql_queries.py` and run the cell below to insert a record for this song into the `songs` table. Remember to run `create_tables.py` before running the cell below to ensure you've created/resetted the `songs` table in the sparkify database."
   ]
  },
  {
   "cell_type": "code",
   "execution_count": 8,
   "metadata": {
    "editable": true
   },
   "outputs": [],
   "source": [
    "cur.execute(song_table_insert, song_data)\n",
    "conn.commit()"
   ]
  },
  {
   "cell_type": "markdown",
   "metadata": {
    "editable": true
   },
   "source": [
    "Run `test.ipynb` to see if you've successfully added a record to this table."
   ]
  },
  {
   "cell_type": "markdown",
   "metadata": {
    "editable": true
   },
   "source": [
    "## #2: `artists` Table\n",
    "#### Extract Data for Artists Table\n",
    "- Select columns for artist ID, name, location, latitude, and longitude\n",
    "- Use `df.values` to select just the values from the dataframe\n",
    "- Index to select the first (only) record in the dataframe\n",
    "- Convert the array to a list and set it to `artist_data`"
   ]
  },
  {
   "cell_type": "code",
   "execution_count": 9,
   "metadata": {
    "editable": true
   },
   "outputs": [
    {
     "data": {
      "text/plain": [
       "['AR8IEZO1187B99055E', 'Marc Shaiman', '', nan, nan]"
      ]
     },
     "execution_count": 9,
     "metadata": {},
     "output_type": "execute_result"
    }
   ],
   "source": [
    "artist_data = df.loc[:,[\"artist_id\",\"artist_name\",\"artist_location\",\"artist_latitude\",\"artist_longitude\"]].values[0].tolist()\n",
    "artist_data"
   ]
  },
  {
   "cell_type": "markdown",
   "metadata": {
    "editable": true
   },
   "source": [
    "#### Insert Record into Artist Table\n",
    "Implement the `artist_table_insert` query in `sql_queries.py` and run the cell below to insert a record for this song's artist into the `artists` table. Remember to run `create_tables.py` before running the cell below to ensure you've created/resetted the `artists` table in the sparkify database."
   ]
  },
  {
   "cell_type": "code",
   "execution_count": 10,
   "metadata": {
    "editable": true
   },
   "outputs": [],
   "source": [
    "cur.execute(artist_table_insert, artist_data)\n",
    "conn.commit()"
   ]
  },
  {
   "cell_type": "markdown",
   "metadata": {
    "editable": true
   },
   "source": [
    "Run `test.ipynb` to see if you've successfully added a record to this table."
   ]
  },
  {
   "cell_type": "markdown",
   "metadata": {
    "editable": true
   },
   "source": [
    "# Process `log_data`\n",
    "In this part, you'll perform ETL on the second dataset, `log_data`, to create the `time` and `users` dimensional tables, as well as the `songplays` fact table.\n",
    "\n",
    "Let's perform ETL on a single log file and load a single record into each table.\n",
    "- Use the `get_files` function provided above to get a list of all log JSON files in `data/log_data`\n",
    "- Select the first log file in this list\n",
    "- Read the log file and view the data"
   ]
  },
  {
   "cell_type": "code",
   "execution_count": 11,
   "metadata": {
    "editable": true
   },
   "outputs": [],
   "source": [
    "log_files = get_files(\"data/log_data\")"
   ]
  },
  {
   "cell_type": "code",
   "execution_count": 12,
   "metadata": {
    "editable": true
   },
   "outputs": [],
   "source": [
    "filepath = \"/home/workspace/data/log_data/2018/11/2018-11-29-events.json\""
   ]
  },
  {
   "cell_type": "code",
   "execution_count": 13,
   "metadata": {
    "editable": true
   },
   "outputs": [
    {
     "data": {
      "text/html": [
       "<div>\n",
       "<style scoped>\n",
       "    .dataframe tbody tr th:only-of-type {\n",
       "        vertical-align: middle;\n",
       "    }\n",
       "\n",
       "    .dataframe tbody tr th {\n",
       "        vertical-align: top;\n",
       "    }\n",
       "\n",
       "    .dataframe thead th {\n",
       "        text-align: right;\n",
       "    }\n",
       "</style>\n",
       "<table border=\"1\" class=\"dataframe\">\n",
       "  <thead>\n",
       "    <tr style=\"text-align: right;\">\n",
       "      <th></th>\n",
       "      <th>artist</th>\n",
       "      <th>auth</th>\n",
       "      <th>firstName</th>\n",
       "      <th>gender</th>\n",
       "      <th>itemInSession</th>\n",
       "      <th>lastName</th>\n",
       "      <th>length</th>\n",
       "      <th>level</th>\n",
       "      <th>location</th>\n",
       "      <th>method</th>\n",
       "      <th>page</th>\n",
       "      <th>registration</th>\n",
       "      <th>sessionId</th>\n",
       "      <th>song</th>\n",
       "      <th>status</th>\n",
       "      <th>ts</th>\n",
       "      <th>userAgent</th>\n",
       "      <th>userId</th>\n",
       "    </tr>\n",
       "  </thead>\n",
       "  <tbody>\n",
       "    <tr>\n",
       "      <th>361</th>\n",
       "      <td>None</td>\n",
       "      <td>Logged In</td>\n",
       "      <td>Tegan</td>\n",
       "      <td>F</td>\n",
       "      <td>37</td>\n",
       "      <td>Levine</td>\n",
       "      <td>NaN</td>\n",
       "      <td>paid</td>\n",
       "      <td>Portland-South Portland, ME</td>\n",
       "      <td>GET</td>\n",
       "      <td>Home</td>\n",
       "      <td>1.540794e+12</td>\n",
       "      <td>1065</td>\n",
       "      <td>None</td>\n",
       "      <td>200</td>\n",
       "      <td>1543532195796</td>\n",
       "      <td>\"Mozilla/5.0 (Macintosh; Intel Mac OS X 10_9_4...</td>\n",
       "      <td>80</td>\n",
       "    </tr>\n",
       "    <tr>\n",
       "      <th>362</th>\n",
       "      <td>Pearl Jam</td>\n",
       "      <td>Logged In</td>\n",
       "      <td>Tegan</td>\n",
       "      <td>F</td>\n",
       "      <td>38</td>\n",
       "      <td>Levine</td>\n",
       "      <td>283.89832</td>\n",
       "      <td>paid</td>\n",
       "      <td>Portland-South Portland, ME</td>\n",
       "      <td>PUT</td>\n",
       "      <td>NextSong</td>\n",
       "      <td>1.540794e+12</td>\n",
       "      <td>1065</td>\n",
       "      <td>Rearviewmirror</td>\n",
       "      <td>200</td>\n",
       "      <td>1543532242796</td>\n",
       "      <td>\"Mozilla/5.0 (Macintosh; Intel Mac OS X 10_9_4...</td>\n",
       "      <td>80</td>\n",
       "    </tr>\n",
       "    <tr>\n",
       "      <th>363</th>\n",
       "      <td>The 2 Live Crew</td>\n",
       "      <td>Logged In</td>\n",
       "      <td>Tegan</td>\n",
       "      <td>F</td>\n",
       "      <td>39</td>\n",
       "      <td>Levine</td>\n",
       "      <td>188.31628</td>\n",
       "      <td>paid</td>\n",
       "      <td>Portland-South Portland, ME</td>\n",
       "      <td>PUT</td>\n",
       "      <td>NextSong</td>\n",
       "      <td>1.540794e+12</td>\n",
       "      <td>1065</td>\n",
       "      <td>Me So Horny</td>\n",
       "      <td>200</td>\n",
       "      <td>1543532525796</td>\n",
       "      <td>\"Mozilla/5.0 (Macintosh; Intel Mac OS X 10_9_4...</td>\n",
       "      <td>80</td>\n",
       "    </tr>\n",
       "    <tr>\n",
       "      <th>364</th>\n",
       "      <td>311</td>\n",
       "      <td>Logged In</td>\n",
       "      <td>Tegan</td>\n",
       "      <td>F</td>\n",
       "      <td>40</td>\n",
       "      <td>Levine</td>\n",
       "      <td>113.26649</td>\n",
       "      <td>paid</td>\n",
       "      <td>Portland-South Portland, ME</td>\n",
       "      <td>PUT</td>\n",
       "      <td>NextSong</td>\n",
       "      <td>1.540794e+12</td>\n",
       "      <td>1065</td>\n",
       "      <td>Loco</td>\n",
       "      <td>200</td>\n",
       "      <td>1543532713796</td>\n",
       "      <td>\"Mozilla/5.0 (Macintosh; Intel Mac OS X 10_9_4...</td>\n",
       "      <td>80</td>\n",
       "    </tr>\n",
       "    <tr>\n",
       "      <th>365</th>\n",
       "      <td>Light Of The World</td>\n",
       "      <td>Logged In</td>\n",
       "      <td>Kynnedi</td>\n",
       "      <td>F</td>\n",
       "      <td>0</td>\n",
       "      <td>Sanchez</td>\n",
       "      <td>207.07220</td>\n",
       "      <td>free</td>\n",
       "      <td>Cedar Rapids, IA</td>\n",
       "      <td>PUT</td>\n",
       "      <td>NextSong</td>\n",
       "      <td>1.541079e+12</td>\n",
       "      <td>1029</td>\n",
       "      <td>Midnight Groovin' (7\" Version) (2006 Digital R...</td>\n",
       "      <td>200</td>\n",
       "      <td>1543533515796</td>\n",
       "      <td>\"Mozilla/5.0 (Macintosh; Intel Mac OS X 10_8_5...</td>\n",
       "      <td>89</td>\n",
       "    </tr>\n",
       "  </tbody>\n",
       "</table>\n",
       "</div>"
      ],
      "text/plain": [
       "                 artist       auth firstName gender  itemInSession lastName  \\\n",
       "361                None  Logged In     Tegan      F             37   Levine   \n",
       "362           Pearl Jam  Logged In     Tegan      F             38   Levine   \n",
       "363     The 2 Live Crew  Logged In     Tegan      F             39   Levine   \n",
       "364                 311  Logged In     Tegan      F             40   Levine   \n",
       "365  Light Of The World  Logged In   Kynnedi      F              0  Sanchez   \n",
       "\n",
       "        length level                     location method      page  \\\n",
       "361        NaN  paid  Portland-South Portland, ME    GET      Home   \n",
       "362  283.89832  paid  Portland-South Portland, ME    PUT  NextSong   \n",
       "363  188.31628  paid  Portland-South Portland, ME    PUT  NextSong   \n",
       "364  113.26649  paid  Portland-South Portland, ME    PUT  NextSong   \n",
       "365  207.07220  free             Cedar Rapids, IA    PUT  NextSong   \n",
       "\n",
       "     registration  sessionId  \\\n",
       "361  1.540794e+12       1065   \n",
       "362  1.540794e+12       1065   \n",
       "363  1.540794e+12       1065   \n",
       "364  1.540794e+12       1065   \n",
       "365  1.541079e+12       1029   \n",
       "\n",
       "                                                  song  status             ts  \\\n",
       "361                                               None     200  1543532195796   \n",
       "362                                     Rearviewmirror     200  1543532242796   \n",
       "363                                        Me So Horny     200  1543532525796   \n",
       "364                                               Loco     200  1543532713796   \n",
       "365  Midnight Groovin' (7\" Version) (2006 Digital R...     200  1543533515796   \n",
       "\n",
       "                                             userAgent userId  \n",
       "361  \"Mozilla/5.0 (Macintosh; Intel Mac OS X 10_9_4...     80  \n",
       "362  \"Mozilla/5.0 (Macintosh; Intel Mac OS X 10_9_4...     80  \n",
       "363  \"Mozilla/5.0 (Macintosh; Intel Mac OS X 10_9_4...     80  \n",
       "364  \"Mozilla/5.0 (Macintosh; Intel Mac OS X 10_9_4...     80  \n",
       "365  \"Mozilla/5.0 (Macintosh; Intel Mac OS X 10_8_5...     89  "
      ]
     },
     "execution_count": 13,
     "metadata": {},
     "output_type": "execute_result"
    }
   ],
   "source": [
    "df = pd.read_json(filepath, lines=True)\n",
    "df.tail()"
   ]
  },
  {
   "cell_type": "markdown",
   "metadata": {
    "editable": true
   },
   "source": [
    "## #3: `time` Table\n",
    "#### Extract Data for Time Table\n",
    "- Filter records by `NextSong` action\n",
    "- Convert the `ts` timestamp column to datetime\n",
    "  - Hint: the current timestamp is in milliseconds\n",
    "- Extract the timestamp, hour, day, week of year, month, year, and weekday from the `ts` column and set `time_data` to a list containing these values in order\n",
    "  - Hint: use pandas' [`dt` attribute](https://pandas.pydata.org/pandas-docs/stable/reference/api/pandas.Series.dt.html) to access easily datetimelike properties.\n",
    "- Specify labels for these columns and set to `column_labels`\n",
    "- Create a dataframe, `time_df,` containing the time data for this file by combining `column_labels` and `time_data` into a dictionary and converting this into a dataframe"
   ]
  },
  {
   "cell_type": "code",
   "execution_count": 14,
   "metadata": {
    "editable": true
   },
   "outputs": [
    {
     "data": {
      "text/html": [
       "<div>\n",
       "<style scoped>\n",
       "    .dataframe tbody tr th:only-of-type {\n",
       "        vertical-align: middle;\n",
       "    }\n",
       "\n",
       "    .dataframe tbody tr th {\n",
       "        vertical-align: top;\n",
       "    }\n",
       "\n",
       "    .dataframe thead th {\n",
       "        text-align: right;\n",
       "    }\n",
       "</style>\n",
       "<table border=\"1\" class=\"dataframe\">\n",
       "  <thead>\n",
       "    <tr style=\"text-align: right;\">\n",
       "      <th></th>\n",
       "      <th>artist</th>\n",
       "      <th>auth</th>\n",
       "      <th>firstName</th>\n",
       "      <th>gender</th>\n",
       "      <th>itemInSession</th>\n",
       "      <th>lastName</th>\n",
       "      <th>length</th>\n",
       "      <th>level</th>\n",
       "      <th>location</th>\n",
       "      <th>method</th>\n",
       "      <th>page</th>\n",
       "      <th>registration</th>\n",
       "      <th>sessionId</th>\n",
       "      <th>song</th>\n",
       "      <th>status</th>\n",
       "      <th>ts</th>\n",
       "      <th>userAgent</th>\n",
       "      <th>userId</th>\n",
       "    </tr>\n",
       "  </thead>\n",
       "  <tbody>\n",
       "    <tr>\n",
       "      <th>355</th>\n",
       "      <td>The White Stripes</td>\n",
       "      <td>Logged In</td>\n",
       "      <td>Tegan</td>\n",
       "      <td>F</td>\n",
       "      <td>32</td>\n",
       "      <td>Levine</td>\n",
       "      <td>194.48118</td>\n",
       "      <td>paid</td>\n",
       "      <td>Portland-South Portland, ME</td>\n",
       "      <td>PUT</td>\n",
       "      <td>NextSong</td>\n",
       "      <td>1.540794e+12</td>\n",
       "      <td>1065</td>\n",
       "      <td>Bone Broke</td>\n",
       "      <td>200</td>\n",
       "      <td>1543531178796</td>\n",
       "      <td>\"Mozilla/5.0 (Macintosh; Intel Mac OS X 10_9_4...</td>\n",
       "      <td>80</td>\n",
       "    </tr>\n",
       "    <tr>\n",
       "      <th>356</th>\n",
       "      <td>Furthermore</td>\n",
       "      <td>Logged In</td>\n",
       "      <td>Tegan</td>\n",
       "      <td>F</td>\n",
       "      <td>33</td>\n",
       "      <td>Levine</td>\n",
       "      <td>211.69587</td>\n",
       "      <td>paid</td>\n",
       "      <td>Portland-South Portland, ME</td>\n",
       "      <td>PUT</td>\n",
       "      <td>NextSong</td>\n",
       "      <td>1.540794e+12</td>\n",
       "      <td>1065</td>\n",
       "      <td>Are You The Walrus?</td>\n",
       "      <td>200</td>\n",
       "      <td>1543531372796</td>\n",
       "      <td>\"Mozilla/5.0 (Macintosh; Intel Mac OS X 10_9_4...</td>\n",
       "      <td>80</td>\n",
       "    </tr>\n",
       "    <tr>\n",
       "      <th>357</th>\n",
       "      <td>Eminem / Bizarre</td>\n",
       "      <td>Logged In</td>\n",
       "      <td>Tegan</td>\n",
       "      <td>F</td>\n",
       "      <td>34</td>\n",
       "      <td>Levine</td>\n",
       "      <td>244.55791</td>\n",
       "      <td>paid</td>\n",
       "      <td>Portland-South Portland, ME</td>\n",
       "      <td>PUT</td>\n",
       "      <td>NextSong</td>\n",
       "      <td>1.540794e+12</td>\n",
       "      <td>1065</td>\n",
       "      <td>Amityville</td>\n",
       "      <td>200</td>\n",
       "      <td>1543531583796</td>\n",
       "      <td>\"Mozilla/5.0 (Macintosh; Intel Mac OS X 10_9_4...</td>\n",
       "      <td>80</td>\n",
       "    </tr>\n",
       "    <tr>\n",
       "      <th>358</th>\n",
       "      <td>Florence + The Machine</td>\n",
       "      <td>Logged In</td>\n",
       "      <td>Tegan</td>\n",
       "      <td>F</td>\n",
       "      <td>35</td>\n",
       "      <td>Levine</td>\n",
       "      <td>185.31220</td>\n",
       "      <td>paid</td>\n",
       "      <td>Portland-South Portland, ME</td>\n",
       "      <td>PUT</td>\n",
       "      <td>NextSong</td>\n",
       "      <td>1.540794e+12</td>\n",
       "      <td>1065</td>\n",
       "      <td>I'm Not Calling You A Liar</td>\n",
       "      <td>200</td>\n",
       "      <td>1543531827796</td>\n",
       "      <td>\"Mozilla/5.0 (Macintosh; Intel Mac OS X 10_9_4...</td>\n",
       "      <td>80</td>\n",
       "    </tr>\n",
       "    <tr>\n",
       "      <th>359</th>\n",
       "      <td>Soda Stereo</td>\n",
       "      <td>Logged In</td>\n",
       "      <td>Braden</td>\n",
       "      <td>M</td>\n",
       "      <td>0</td>\n",
       "      <td>Parker</td>\n",
       "      <td>316.73424</td>\n",
       "      <td>free</td>\n",
       "      <td>Youngstown-Warren-Boardman, OH-PA</td>\n",
       "      <td>PUT</td>\n",
       "      <td>NextSong</td>\n",
       "      <td>1.540999e+12</td>\n",
       "      <td>1007</td>\n",
       "      <td>Signos</td>\n",
       "      <td>200</td>\n",
       "      <td>1543531878796</td>\n",
       "      <td>\"Mozilla/5.0 (Windows NT 6.1; WOW64) AppleWebK...</td>\n",
       "      <td>74</td>\n",
       "    </tr>\n",
       "    <tr>\n",
       "      <th>360</th>\n",
       "      <td>Taylor Swift</td>\n",
       "      <td>Logged In</td>\n",
       "      <td>Tegan</td>\n",
       "      <td>F</td>\n",
       "      <td>36</td>\n",
       "      <td>Levine</td>\n",
       "      <td>230.47791</td>\n",
       "      <td>paid</td>\n",
       "      <td>Portland-South Portland, ME</td>\n",
       "      <td>PUT</td>\n",
       "      <td>NextSong</td>\n",
       "      <td>1.540794e+12</td>\n",
       "      <td>1065</td>\n",
       "      <td>You Belong With Me</td>\n",
       "      <td>200</td>\n",
       "      <td>1543532012796</td>\n",
       "      <td>\"Mozilla/5.0 (Macintosh; Intel Mac OS X 10_9_4...</td>\n",
       "      <td>80</td>\n",
       "    </tr>\n",
       "    <tr>\n",
       "      <th>362</th>\n",
       "      <td>Pearl Jam</td>\n",
       "      <td>Logged In</td>\n",
       "      <td>Tegan</td>\n",
       "      <td>F</td>\n",
       "      <td>38</td>\n",
       "      <td>Levine</td>\n",
       "      <td>283.89832</td>\n",
       "      <td>paid</td>\n",
       "      <td>Portland-South Portland, ME</td>\n",
       "      <td>PUT</td>\n",
       "      <td>NextSong</td>\n",
       "      <td>1.540794e+12</td>\n",
       "      <td>1065</td>\n",
       "      <td>Rearviewmirror</td>\n",
       "      <td>200</td>\n",
       "      <td>1543532242796</td>\n",
       "      <td>\"Mozilla/5.0 (Macintosh; Intel Mac OS X 10_9_4...</td>\n",
       "      <td>80</td>\n",
       "    </tr>\n",
       "    <tr>\n",
       "      <th>363</th>\n",
       "      <td>The 2 Live Crew</td>\n",
       "      <td>Logged In</td>\n",
       "      <td>Tegan</td>\n",
       "      <td>F</td>\n",
       "      <td>39</td>\n",
       "      <td>Levine</td>\n",
       "      <td>188.31628</td>\n",
       "      <td>paid</td>\n",
       "      <td>Portland-South Portland, ME</td>\n",
       "      <td>PUT</td>\n",
       "      <td>NextSong</td>\n",
       "      <td>1.540794e+12</td>\n",
       "      <td>1065</td>\n",
       "      <td>Me So Horny</td>\n",
       "      <td>200</td>\n",
       "      <td>1543532525796</td>\n",
       "      <td>\"Mozilla/5.0 (Macintosh; Intel Mac OS X 10_9_4...</td>\n",
       "      <td>80</td>\n",
       "    </tr>\n",
       "    <tr>\n",
       "      <th>364</th>\n",
       "      <td>311</td>\n",
       "      <td>Logged In</td>\n",
       "      <td>Tegan</td>\n",
       "      <td>F</td>\n",
       "      <td>40</td>\n",
       "      <td>Levine</td>\n",
       "      <td>113.26649</td>\n",
       "      <td>paid</td>\n",
       "      <td>Portland-South Portland, ME</td>\n",
       "      <td>PUT</td>\n",
       "      <td>NextSong</td>\n",
       "      <td>1.540794e+12</td>\n",
       "      <td>1065</td>\n",
       "      <td>Loco</td>\n",
       "      <td>200</td>\n",
       "      <td>1543532713796</td>\n",
       "      <td>\"Mozilla/5.0 (Macintosh; Intel Mac OS X 10_9_4...</td>\n",
       "      <td>80</td>\n",
       "    </tr>\n",
       "    <tr>\n",
       "      <th>365</th>\n",
       "      <td>Light Of The World</td>\n",
       "      <td>Logged In</td>\n",
       "      <td>Kynnedi</td>\n",
       "      <td>F</td>\n",
       "      <td>0</td>\n",
       "      <td>Sanchez</td>\n",
       "      <td>207.07220</td>\n",
       "      <td>free</td>\n",
       "      <td>Cedar Rapids, IA</td>\n",
       "      <td>PUT</td>\n",
       "      <td>NextSong</td>\n",
       "      <td>1.541079e+12</td>\n",
       "      <td>1029</td>\n",
       "      <td>Midnight Groovin' (7\" Version) (2006 Digital R...</td>\n",
       "      <td>200</td>\n",
       "      <td>1543533515796</td>\n",
       "      <td>\"Mozilla/5.0 (Macintosh; Intel Mac OS X 10_8_5...</td>\n",
       "      <td>89</td>\n",
       "    </tr>\n",
       "  </tbody>\n",
       "</table>\n",
       "</div>"
      ],
      "text/plain": [
       "                     artist       auth firstName gender  itemInSession  \\\n",
       "355       The White Stripes  Logged In     Tegan      F             32   \n",
       "356             Furthermore  Logged In     Tegan      F             33   \n",
       "357        Eminem / Bizarre  Logged In     Tegan      F             34   \n",
       "358  Florence + The Machine  Logged In     Tegan      F             35   \n",
       "359             Soda Stereo  Logged In    Braden      M              0   \n",
       "360            Taylor Swift  Logged In     Tegan      F             36   \n",
       "362               Pearl Jam  Logged In     Tegan      F             38   \n",
       "363         The 2 Live Crew  Logged In     Tegan      F             39   \n",
       "364                     311  Logged In     Tegan      F             40   \n",
       "365      Light Of The World  Logged In   Kynnedi      F              0   \n",
       "\n",
       "    lastName     length level                           location method  \\\n",
       "355   Levine  194.48118  paid        Portland-South Portland, ME    PUT   \n",
       "356   Levine  211.69587  paid        Portland-South Portland, ME    PUT   \n",
       "357   Levine  244.55791  paid        Portland-South Portland, ME    PUT   \n",
       "358   Levine  185.31220  paid        Portland-South Portland, ME    PUT   \n",
       "359   Parker  316.73424  free  Youngstown-Warren-Boardman, OH-PA    PUT   \n",
       "360   Levine  230.47791  paid        Portland-South Portland, ME    PUT   \n",
       "362   Levine  283.89832  paid        Portland-South Portland, ME    PUT   \n",
       "363   Levine  188.31628  paid        Portland-South Portland, ME    PUT   \n",
       "364   Levine  113.26649  paid        Portland-South Portland, ME    PUT   \n",
       "365  Sanchez  207.07220  free                   Cedar Rapids, IA    PUT   \n",
       "\n",
       "         page  registration  sessionId  \\\n",
       "355  NextSong  1.540794e+12       1065   \n",
       "356  NextSong  1.540794e+12       1065   \n",
       "357  NextSong  1.540794e+12       1065   \n",
       "358  NextSong  1.540794e+12       1065   \n",
       "359  NextSong  1.540999e+12       1007   \n",
       "360  NextSong  1.540794e+12       1065   \n",
       "362  NextSong  1.540794e+12       1065   \n",
       "363  NextSong  1.540794e+12       1065   \n",
       "364  NextSong  1.540794e+12       1065   \n",
       "365  NextSong  1.541079e+12       1029   \n",
       "\n",
       "                                                  song  status             ts  \\\n",
       "355                                         Bone Broke     200  1543531178796   \n",
       "356                                Are You The Walrus?     200  1543531372796   \n",
       "357                                         Amityville     200  1543531583796   \n",
       "358                         I'm Not Calling You A Liar     200  1543531827796   \n",
       "359                                             Signos     200  1543531878796   \n",
       "360                                 You Belong With Me     200  1543532012796   \n",
       "362                                     Rearviewmirror     200  1543532242796   \n",
       "363                                        Me So Horny     200  1543532525796   \n",
       "364                                               Loco     200  1543532713796   \n",
       "365  Midnight Groovin' (7\" Version) (2006 Digital R...     200  1543533515796   \n",
       "\n",
       "                                             userAgent userId  \n",
       "355  \"Mozilla/5.0 (Macintosh; Intel Mac OS X 10_9_4...     80  \n",
       "356  \"Mozilla/5.0 (Macintosh; Intel Mac OS X 10_9_4...     80  \n",
       "357  \"Mozilla/5.0 (Macintosh; Intel Mac OS X 10_9_4...     80  \n",
       "358  \"Mozilla/5.0 (Macintosh; Intel Mac OS X 10_9_4...     80  \n",
       "359  \"Mozilla/5.0 (Windows NT 6.1; WOW64) AppleWebK...     74  \n",
       "360  \"Mozilla/5.0 (Macintosh; Intel Mac OS X 10_9_4...     80  \n",
       "362  \"Mozilla/5.0 (Macintosh; Intel Mac OS X 10_9_4...     80  \n",
       "363  \"Mozilla/5.0 (Macintosh; Intel Mac OS X 10_9_4...     80  \n",
       "364  \"Mozilla/5.0 (Macintosh; Intel Mac OS X 10_9_4...     80  \n",
       "365  \"Mozilla/5.0 (Macintosh; Intel Mac OS X 10_8_5...     89  "
      ]
     },
     "execution_count": 14,
     "metadata": {},
     "output_type": "execute_result"
    }
   ],
   "source": [
    "df = df[df.page==\"NextSong\"]\n",
    "df.tail(10)"
   ]
  },
  {
   "cell_type": "code",
   "execution_count": 15,
   "metadata": {
    "editable": true
   },
   "outputs": [
    {
     "name": "stdout",
     "output_type": "stream",
     "text": [
      "<class 'pandas.core.frame.DataFrame'>\n",
      "Int64Index: 319 entries, 0 to 365\n",
      "Data columns (total 18 columns):\n",
      "artist           319 non-null object\n",
      "auth             319 non-null object\n",
      "firstName        319 non-null object\n",
      "gender           319 non-null object\n",
      "itemInSession    319 non-null int64\n",
      "lastName         319 non-null object\n",
      "length           319 non-null float64\n",
      "level            319 non-null object\n",
      "location         319 non-null object\n",
      "method           319 non-null object\n",
      "page             319 non-null object\n",
      "registration     319 non-null float64\n",
      "sessionId        319 non-null int64\n",
      "song             319 non-null object\n",
      "status           319 non-null int64\n",
      "ts               319 non-null int64\n",
      "userAgent        319 non-null object\n",
      "userId           319 non-null object\n",
      "dtypes: float64(2), int64(4), object(12)\n",
      "memory usage: 47.4+ KB\n"
     ]
    }
   ],
   "source": [
    "df.info()\n",
    "t = pd.to_datetime(df['ts'], unit='ms', origin='unix')\n"
   ]
  },
  {
   "cell_type": "code",
   "execution_count": 16,
   "metadata": {
    "editable": true
   },
   "outputs": [],
   "source": [
    "time_data =  df.ts\n",
    "hour = t.dt.hour\n",
    "day = t.dt.day\n",
    "week = t.dt.week\n",
    "month = t.dt.month\n",
    "year = t.dt.year\n",
    "weekday = t.dt.weekday\n",
    "column_labels = ['start_time', 'hour', 'day', 'week', 'month', 'year', 'weekday']\n"
   ]
  },
  {
   "cell_type": "code",
   "execution_count": 17,
   "metadata": {
    "editable": true
   },
   "outputs": [
    {
     "data": {
      "text/html": [
       "<div>\n",
       "<style scoped>\n",
       "    .dataframe tbody tr th:only-of-type {\n",
       "        vertical-align: middle;\n",
       "    }\n",
       "\n",
       "    .dataframe tbody tr th {\n",
       "        vertical-align: top;\n",
       "    }\n",
       "\n",
       "    .dataframe thead th {\n",
       "        text-align: right;\n",
       "    }\n",
       "</style>\n",
       "<table border=\"1\" class=\"dataframe\">\n",
       "  <thead>\n",
       "    <tr style=\"text-align: right;\">\n",
       "      <th></th>\n",
       "      <th>start_time</th>\n",
       "      <th>hour</th>\n",
       "      <th>day</th>\n",
       "      <th>week</th>\n",
       "      <th>month</th>\n",
       "      <th>year</th>\n",
       "      <th>weekday</th>\n",
       "    </tr>\n",
       "  </thead>\n",
       "  <tbody>\n",
       "    <tr>\n",
       "      <th>314</th>\n",
       "      <td>1543532012796</td>\n",
       "      <td>22</td>\n",
       "      <td>29</td>\n",
       "      <td>48</td>\n",
       "      <td>11</td>\n",
       "      <td>2018</td>\n",
       "      <td>3</td>\n",
       "    </tr>\n",
       "    <tr>\n",
       "      <th>315</th>\n",
       "      <td>1543532242796</td>\n",
       "      <td>22</td>\n",
       "      <td>29</td>\n",
       "      <td>48</td>\n",
       "      <td>11</td>\n",
       "      <td>2018</td>\n",
       "      <td>3</td>\n",
       "    </tr>\n",
       "    <tr>\n",
       "      <th>316</th>\n",
       "      <td>1543532525796</td>\n",
       "      <td>23</td>\n",
       "      <td>29</td>\n",
       "      <td>48</td>\n",
       "      <td>11</td>\n",
       "      <td>2018</td>\n",
       "      <td>3</td>\n",
       "    </tr>\n",
       "    <tr>\n",
       "      <th>317</th>\n",
       "      <td>1543532713796</td>\n",
       "      <td>23</td>\n",
       "      <td>29</td>\n",
       "      <td>48</td>\n",
       "      <td>11</td>\n",
       "      <td>2018</td>\n",
       "      <td>3</td>\n",
       "    </tr>\n",
       "    <tr>\n",
       "      <th>318</th>\n",
       "      <td>1543533515796</td>\n",
       "      <td>23</td>\n",
       "      <td>29</td>\n",
       "      <td>48</td>\n",
       "      <td>11</td>\n",
       "      <td>2018</td>\n",
       "      <td>3</td>\n",
       "    </tr>\n",
       "  </tbody>\n",
       "</table>\n",
       "</div>"
      ],
      "text/plain": [
       "        start_time  hour  day  week  month  year  weekday\n",
       "314  1543532012796    22   29    48     11  2018        3\n",
       "315  1543532242796    22   29    48     11  2018        3\n",
       "316  1543532525796    23   29    48     11  2018        3\n",
       "317  1543532713796    23   29    48     11  2018        3\n",
       "318  1543533515796    23   29    48     11  2018        3"
      ]
     },
     "execution_count": 17,
     "metadata": {},
     "output_type": "execute_result"
    }
   ],
   "source": [
    "time_df = pd.DataFrame(data=list(zip(time_data, hour, day, week, month, year, weekday)), columns = column_labels)\n",
    "time_df.tail()"
   ]
  },
  {
   "cell_type": "markdown",
   "metadata": {
    "editable": true
   },
   "source": [
    "#### Insert Records into Time Table\n",
    "Implement the `time_table_insert` query in `sql_queries.py` and run the cell below to insert records for the timestamps in this log file into the `time` table. Remember to run `create_tables.py` before running the cell below to ensure you've created/resetted the `time` table in the sparkify database."
   ]
  },
  {
   "cell_type": "code",
   "execution_count": 18,
   "metadata": {
    "editable": true
   },
   "outputs": [],
   "source": [
    "for i, row in time_df.iterrows():\n",
    "    cur.execute(time_table_insert, list(row))\n",
    "    conn.commit()"
   ]
  },
  {
   "cell_type": "markdown",
   "metadata": {
    "editable": true
   },
   "source": [
    "Run `test.ipynb` to see if you've successfully added records to this table."
   ]
  },
  {
   "cell_type": "markdown",
   "metadata": {
    "editable": true
   },
   "source": [
    "## #4: `users` Table\n",
    "#### Extract Data for Users Table\n",
    "- Select columns for user ID, first name, last name, gender and level and set to `user_df`"
   ]
  },
  {
   "cell_type": "code",
   "execution_count": 19,
   "metadata": {
    "editable": true
   },
   "outputs": [],
   "source": [
    "user_df = df.loc[:, [\"userId\",\"firstName\", \"lastName\", \"gender\", \"level\"]]"
   ]
  },
  {
   "cell_type": "markdown",
   "metadata": {
    "editable": true
   },
   "source": [
    "#### Insert Records into Users Table\n",
    "Implement the `user_table_insert` query in `sql_queries.py` and run the cell below to insert records for the users in this log file into the `users` table. Remember to run `create_tables.py` before running the cell below to ensure you've created/resetted the `users` table in the sparkify database."
   ]
  },
  {
   "cell_type": "code",
   "execution_count": 20,
   "metadata": {
    "editable": true
   },
   "outputs": [],
   "source": [
    "for i, row in user_df.iterrows():\n",
    "    cur.execute(user_table_insert, row)\n",
    "    conn.commit()"
   ]
  },
  {
   "cell_type": "markdown",
   "metadata": {
    "editable": true
   },
   "source": [
    "Run `test.ipynb` to see if you've successfully added records to this table."
   ]
  },
  {
   "cell_type": "markdown",
   "metadata": {
    "editable": true
   },
   "source": [
    "## #5: `songplays` Table\n",
    "#### Extract Data and Songplays Table\n",
    "This one is a little more complicated since information from the songs table, artists table, and original log file are all needed for the `songplays` table. Since the log file does not specify an ID for either the song or the artist, you'll need to get the song ID and artist ID by querying the songs and artists tables to find matches based on song title, artist name, and song duration time.\n",
    "- Implement the `song_select` query in `sql_queries.py` to find the song ID and artist ID based on the title, artist name, and duration of a song.\n",
    "- Select the timestamp, user ID, level, song ID, artist ID, session ID, location, and user agent and set to `songplay_data`\n",
    "\n",
    "#### Insert Records into Songplays Table\n",
    "- Implement the `songplay_table_insert` query and run the cell below to insert records for the songplay actions in this log file into the `songplays` table. Remember to run `create_tables.py` before running the cell below to ensure you've created/resetted the `songplays` table in the sparkify database."
   ]
  },
  {
   "cell_type": "code",
   "execution_count": 21,
   "metadata": {
    "editable": true
   },
   "outputs": [],
   "source": [
    "for index, row in df.iterrows():\n",
    "\n",
    "    # get songid and artistid from song and artist tables\n",
    "    cur.execute(song_select, (row.song, row.artist, row.length))\n",
    "    results = cur.fetchone()\n",
    "    \n",
    "    if results:\n",
    "        songid, artistid = results\n",
    "        print(songid, artistid)\n",
    "    else:\n",
    "        songid, artistid = None, None\n",
    "\n",
    "    # insert songplay record\n",
    "    songplay_data = (row.ts, row.userId, row.level, songid, artistid, row.sessionId, row.location, row.userAgent)\n",
    "    cur.execute(songplay_table_insert, songplay_data)\n",
    "    conn.commit()"
   ]
  },
  {
   "cell_type": "markdown",
   "metadata": {
    "editable": true
   },
   "source": [
    "Run `test.ipynb` to see if you've successfully added records to this table."
   ]
  },
  {
   "cell_type": "markdown",
   "metadata": {
    "editable": true
   },
   "source": [
    "# Close Connection to Sparkify Database"
   ]
  },
  {
   "cell_type": "code",
   "execution_count": 22,
   "metadata": {
    "editable": true
   },
   "outputs": [],
   "source": [
    "conn.close()"
   ]
  },
  {
   "cell_type": "markdown",
   "metadata": {
    "editable": true
   },
   "source": [
    "# Implement `etl.py`\n",
    "Use what you've completed in this notebook to implement `etl.py`."
   ]
  },
  {
   "cell_type": "code",
   "execution_count": 23,
   "metadata": {
    "editable": true
   },
   "outputs": [
    {
     "name": "stdout",
     "output_type": "stream",
     "text": [
      "85 files found in data/song_data\n",
      "1/85 files processed.\n",
      "2/85 files processed.\n",
      "3/85 files processed.\n",
      "4/85 files processed.\n",
      "5/85 files processed.\n",
      "6/85 files processed.\n",
      "7/85 files processed.\n",
      "8/85 files processed.\n",
      "9/85 files processed.\n",
      "10/85 files processed.\n",
      "11/85 files processed.\n",
      "12/85 files processed.\n",
      "13/85 files processed.\n",
      "14/85 files processed.\n",
      "15/85 files processed.\n",
      "16/85 files processed.\n",
      "17/85 files processed.\n",
      "18/85 files processed.\n",
      "19/85 files processed.\n",
      "20/85 files processed.\n",
      "21/85 files processed.\n",
      "22/85 files processed.\n",
      "23/85 files processed.\n",
      "24/85 files processed.\n",
      "25/85 files processed.\n",
      "26/85 files processed.\n",
      "27/85 files processed.\n",
      "28/85 files processed.\n",
      "29/85 files processed.\n",
      "30/85 files processed.\n",
      "31/85 files processed.\n",
      "32/85 files processed.\n",
      "33/85 files processed.\n",
      "34/85 files processed.\n",
      "35/85 files processed.\n",
      "36/85 files processed.\n",
      "37/85 files processed.\n",
      "38/85 files processed.\n",
      "39/85 files processed.\n",
      "40/85 files processed.\n",
      "41/85 files processed.\n",
      "42/85 files processed.\n",
      "43/85 files processed.\n",
      "44/85 files processed.\n",
      "45/85 files processed.\n",
      "46/85 files processed.\n",
      "47/85 files processed.\n",
      "48/85 files processed.\n",
      "49/85 files processed.\n",
      "50/85 files processed.\n",
      "51/85 files processed.\n",
      "52/85 files processed.\n",
      "53/85 files processed.\n",
      "54/85 files processed.\n",
      "55/85 files processed.\n",
      "56/85 files processed.\n",
      "57/85 files processed.\n",
      "58/85 files processed.\n",
      "59/85 files processed.\n",
      "60/85 files processed.\n",
      "61/85 files processed.\n",
      "62/85 files processed.\n",
      "63/85 files processed.\n",
      "64/85 files processed.\n",
      "65/85 files processed.\n",
      "66/85 files processed.\n",
      "67/85 files processed.\n",
      "68/85 files processed.\n",
      "69/85 files processed.\n",
      "70/85 files processed.\n",
      "71/85 files processed.\n",
      "72/85 files processed.\n",
      "73/85 files processed.\n",
      "74/85 files processed.\n",
      "75/85 files processed.\n",
      "76/85 files processed.\n",
      "77/85 files processed.\n",
      "78/85 files processed.\n",
      "79/85 files processed.\n",
      "80/85 files processed.\n",
      "81/85 files processed.\n",
      "82/85 files processed.\n",
      "83/85 files processed.\n",
      "84/85 files processed.\n",
      "85/85 files processed.\n",
      "60 files found in data/log_data\n",
      "1/60 files processed.\n",
      "2/60 files processed.\n",
      "3/60 files processed.\n",
      "4/60 files processed.\n",
      "5/60 files processed.\n",
      "6/60 files processed.\n",
      "7/60 files processed.\n",
      "8/60 files processed.\n",
      "9/60 files processed.\n",
      "10/60 files processed.\n",
      "11/60 files processed.\n",
      "12/60 files processed.\n",
      "13/60 files processed.\n",
      "14/60 files processed.\n",
      "15/60 files processed.\n",
      "16/60 files processed.\n",
      "17/60 files processed.\n",
      "18/60 files processed.\n",
      "19/60 files processed.\n",
      "20/60 files processed.\n",
      "21/60 files processed.\n",
      "22/60 files processed.\n",
      "23/60 files processed.\n",
      "24/60 files processed.\n",
      "25/60 files processed.\n",
      "26/60 files processed.\n",
      "27/60 files processed.\n",
      "28/60 files processed.\n",
      "29/60 files processed.\n",
      "30/60 files processed.\n",
      "31/60 files processed.\n",
      "32/60 files processed.\n",
      "33/60 files processed.\n",
      "34/60 files processed.\n",
      "35/60 files processed.\n",
      "36/60 files processed.\n",
      "37/60 files processed.\n",
      "38/60 files processed.\n",
      "39/60 files processed.\n",
      "40/60 files processed.\n",
      "41/60 files processed.\n",
      "42/60 files processed.\n",
      "43/60 files processed.\n",
      "44/60 files processed.\n",
      "45/60 files processed.\n",
      "46/60 files processed.\n",
      "47/60 files processed.\n",
      "48/60 files processed.\n",
      "49/60 files processed.\n",
      "50/60 files processed.\n",
      "51/60 files processed.\n",
      "52/60 files processed.\n",
      "53/60 files processed.\n",
      "54/60 files processed.\n",
      "55/60 files processed.\n",
      "56/60 files processed.\n",
      "57/60 files processed.\n",
      "58/60 files processed.\n",
      "59/60 files processed.\n",
      "60/60 files processed.\n"
     ]
    }
   ],
   "source": [
    "import os\n",
    "import glob\n",
    "import psycopg2\n",
    "import pandas as pd\n",
    "from sql_queries import *\n",
    "\n",
    "\n",
    "def process_song_file(cur, filepath):\n",
    "    # open song file\n",
    "    df = pd.read_json(filepath, lines=True)\n",
    "\n",
    "    # insert song record\n",
    "    song_data = df.loc[:,[\"song_id\",\"title\",\"artist_id\",\"year\",\"duration\"]].values[0].tolist()\n",
    "    cur.execute(song_table_insert, song_data)\n",
    "    \n",
    "    # insert artist record\n",
    "    artist_data = df.loc[:,[\"artist_id\",\"artist_name\",\"artist_location\",\"artist_latitude\",\"artist_longitude\"]].values[0].tolist()\n",
    "    cur.execute(artist_table_insert, artist_data)\n",
    "\n",
    "\n",
    "def process_log_file(cur, filepath):\n",
    "    # open log file\n",
    "    df = pd.read_json(filepath, lines=True)\n",
    "\n",
    "    # filter by NextSong action\n",
    "    df = df[df.page==\"NextSong\"]\n",
    "\n",
    "    # convert timestamp column to datetime\n",
    "    t = pd.to_datetime(df['ts'], unit='ms', origin='unix')\n",
    "    \n",
    "    # insert time data records\n",
    "    time_data = df.ts\n",
    "    column_labels = ['start_time', 'hour', 'day', 'week', 'month', 'year', 'weekday']\n",
    "    time_df = pd.DataFrame(data=list(zip(time_data, t.dt.hour, t.dt.day, t.dt.week, t.dt.month, t.dt.year, t.dt.weekday)), columns = column_labels)\n",
    "\n",
    "    for i, row in time_df.iterrows():\n",
    "        cur.execute(time_table_insert, list(row))\n",
    "\n",
    "    # load user table\n",
    "    user_df = df.loc[:, [\"userId\",\"firstName\", \"lastName\", \"gender\", \"level\"]]\n",
    "\n",
    "    # insert user records\n",
    "    for i, row in user_df.iterrows():\n",
    "        cur.execute(user_table_insert, row)\n",
    "\n",
    "    # insert songplay records\n",
    "    for index, row in df.iterrows():\n",
    "        \n",
    "        # get songid and artistid from song and artist tables\n",
    "        cur.execute(song_select, (row.song, row.artist, row.length))\n",
    "        results = cur.fetchone()\n",
    "        \n",
    "        if results:\n",
    "            songid, artistid = results\n",
    "        else:\n",
    "            songid, artistid = None, None\n",
    "\n",
    "        # insert songplay record\n",
    "        songplay_data = (row.ts, row.userId, row.level, songid, artistid, row.sessionId, row.location, row.userAgent)\n",
    "        cur.execute(songplay_table_insert, songplay_data)\n",
    "\n",
    "\n",
    "def process_data(cur, conn, filepath, func):\n",
    "    # get all files matching extension from directory\n",
    "    all_files = []\n",
    "    for root, dirs, files in os.walk(filepath):\n",
    "        files = glob.glob(os.path.join(root,'*.json'))\n",
    "        for f in files :\n",
    "            all_files.append(os.path.abspath(f))\n",
    "\n",
    "    # get total number of files found\n",
    "    num_files = len(all_files)\n",
    "    print('{} files found in {}'.format(num_files, filepath))\n",
    "\n",
    "    # iterate over files and process\n",
    "    for i, datafile in enumerate(all_files, 1):\n",
    "        func(cur, datafile)\n",
    "        conn.commit()\n",
    "        print('{}/{} files processed.'.format(i, num_files))\n",
    "\n",
    "\n",
    "def main():\n",
    "    conn = psycopg2.connect(\"host=127.0.0.1 dbname=sparkifydb user=student password=student\")\n",
    "    cur = conn.cursor()\n",
    "\n",
    "    process_data(cur, conn, filepath='data/song_data', func=process_song_file)\n",
    "    process_data(cur, conn, filepath='data/log_data', func=process_log_file)\n",
    "\n",
    "    conn.close()\n",
    "\n",
    "\n",
    "if __name__ == \"__main__\":\n",
    "    main()"
   ]
  }
 ],
 "metadata": {
  "kernelspec": {
   "display_name": "Python 3",
   "language": "python",
   "name": "python3"
  },
  "language_info": {
   "codemirror_mode": {
    "name": "ipython",
    "version": 3
   },
   "file_extension": ".py",
   "mimetype": "text/x-python",
   "name": "python",
   "nbconvert_exporter": "python",
   "pygments_lexer": "ipython3",
   "version": "3.6.3"
  }
 },
 "nbformat": 4,
 "nbformat_minor": 4
}
